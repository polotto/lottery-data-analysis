{
 "cells": [
  {
   "cell_type": "markdown",
   "source": [
    "# Análises da Mega Sena"
   ],
   "metadata": {
    "collapsed": false,
    "pycharm": {
     "name": "#%% md\n"
    }
   }
  },
  {
   "cell_type": "markdown",
   "source": [
    "## Utilitários"
   ],
   "metadata": {
    "collapsed": false
   }
  },
  {
   "cell_type": "code",
   "execution_count": 25,
   "outputs": [],
   "source": [
    "def sort_dict_by_value_reverse(d):\n",
    "    return dict(sorted(d.items(), key=lambda x: x[1], reverse=True))\n",
    "\n",
    "def sort_dict_by_key(d):\n",
    "    return dict(sorted(d.items(), key=lambda x: x[0]))\n",
    "\n",
    "def iterate_each_item_row(data, func):\n",
    "    for index, row in data.iterrows():\n",
    "        for item in row:\n",
    "            func(item)\n",
    "\n",
    "def iterate_each_row(data, func):\n",
    "    for index, row in data.iterrows():\n",
    "        func(row)\n",
    "\n",
    "def check_consecutive(l):\n",
    "    return sorted(l) == list(range(min(l), max(l)+1))\n",
    "\n",
    "def split_list(l, n):\n",
    "    return [l[i:i + n] for i in range(0, len(l), n)]\n",
    "\n",
    "def print_dict(d, headers):\n",
    "    from tabulate import tabulate\n",
    "    print(tabulate([[k, v] for k,v in d.items()], headers = headers))\n",
    "\n",
    "def truncate(n, decimals=2):\n",
    "    multiplier = 10 ** decimals\n",
    "    return int(n * multiplier) / multiplier\n",
    "\n",
    "# matplotlib configuration\n",
    "import matplotlib.pyplot as plt\n",
    "# plt.rcParams['figure.figsize'] = [12, 8]\n",
    "# %matplotlib widget\n",
    "# %matplotlib notebook\n",
    "%matplotlib inline\n",
    "\n",
    "def scatter_plot(x, y):\n",
    "    plt.plot(x, y, 'o')\n",
    "    plt.ylim(ymin=0)\n",
    "    plt.rcParams['figure.dpi'] = 200\n",
    "    plt.show()"
   ],
   "metadata": {
    "collapsed": false,
    "pycharm": {
     "name": "#%%\n"
    }
   }
  },
  {
   "cell_type": "markdown",
   "source": [
    "## Carregamento dos dados"
   ],
   "metadata": {
    "collapsed": false,
    "pycharm": {
     "name": "#%% md\n"
    }
   }
  },
  {
   "cell_type": "code",
   "execution_count": 26,
   "outputs": [],
   "source": [
    "import pandas as pd\n",
    "\n",
    "mega_data = pd.read_excel('./data/mega_sena_2439.xlsx', sheet_name='mega_sena_www.asloterias.com.br', usecols='c:h', skiprows=6, nrows=2440)"
   ],
   "metadata": {
    "collapsed": false,
    "pycharm": {
     "name": "#%%\n"
    }
   }
  },
  {
   "cell_type": "markdown",
   "source": [
    "## Números mais sorteados"
   ],
   "metadata": {
    "collapsed": false,
    "pycharm": {
     "name": "#%% md\n"
    }
   }
  },
  {
   "cell_type": "code",
   "execution_count": 27,
   "outputs": [
    {
     "name": "stdout",
     "output_type": "stream",
     "text": [
      "-> Todos os números de 1 a 60 foram sorteados:\n",
      "sim\n",
      "-> números mais sorteados\n",
      "  números    vezes\n",
      "---------  -------\n",
      "       53      279\n",
      "       10      277\n",
      "        5      268\n",
      "       42      266\n",
      "       37      264\n",
      "        4      264\n",
      "       33      263\n",
      "       30      260\n",
      "       27      260\n",
      "       23      260\n",
      "       54      258\n",
      "       28      258\n",
      "       34      257\n",
      "       29      256\n",
      "       41      255\n",
      "       44      255\n",
      "       35      255\n",
      "       43      255\n",
      "       11      254\n",
      "       16      254\n",
      "       17      253\n",
      "       38      252\n",
      "       51      252\n",
      "       36      252\n",
      "       24      252\n",
      "       32      250\n",
      "        2      249\n",
      "       49      249\n",
      "        6      248\n",
      "       56      247\n",
      "       13      247\n",
      "        8      246\n",
      "       52      244\n",
      "       46      242\n",
      "       18      240\n",
      "       50      240\n",
      "       58      238\n",
      "       12      237\n",
      "        1      235\n",
      "       45      235\n",
      "       20      235\n",
      "       25      234\n",
      "       40      233\n",
      "        7      233\n",
      "       19      232\n",
      "       57      232\n",
      "       39      232\n",
      "       60      232\n",
      "       47      231\n",
      "       59      231\n",
      "       14      229\n",
      "        9      229\n",
      "       31      229\n",
      "       48      226\n",
      "        3      225\n",
      "       22      215\n",
      "       15      211\n",
      "       21      209\n",
      "       55      206\n",
      "       26      204\n"
     ]
    },
    {
     "data": {
      "text/plain": "<Figure size 432x288 with 1 Axes>",
      "image/png": "[encoded data removed]"
     },
     "metadata": {
      "needs_background": "light"
     },
     "output_type": "display_data"
    }
   ],
   "source": [
    "num_dict = {}\n",
    "def most_freq_numbers(n):\n",
    "    num_dict[n] = num_dict.setdefault(n, 0) + 1\n",
    "\n",
    "iterate_each_item_row(mega_data, most_freq_numbers)\n",
    "\n",
    "num_dict = sort_dict_by_value_reverse(num_dict)\n",
    "\n",
    "print('-> Todos os números de 1 a 60 foram sorteados:')\n",
    "num_dict_key = sort_dict_by_key(num_dict)\n",
    "if list(num_dict_key.keys()) == list(range(1, 61)):\n",
    "    print('sim')\n",
    "else:\n",
    "    print('não')\n",
    "\n",
    "print('-> números mais sorteados')\n",
    "print_dict(num_dict,  ['números', 'vezes'])\n",
    "\n",
    "x = []\n",
    "y = []\n",
    "for k, v in num_dict.items():\n",
    "    x.append(k)\n",
    "    y.append(v)\n",
    "\n",
    "scatter_plot(x, y)"
   ],
   "metadata": {
    "collapsed": false,
    "pycharm": {
     "name": "#%%\n"
    }
   }
  },
  {
   "cell_type": "markdown",
   "source": [
    "## Números pares e ímpares"
   ],
   "metadata": {
    "collapsed": false,
    "pycharm": {
     "name": "#%% md\n"
    }
   }
  },
  {
   "cell_type": "code",
   "execution_count": 28,
   "outputs": [
    {
     "name": "stdout",
     "output_type": "stream",
     "text": [
      "-> total de números pares em ímpares\n",
      "tipo    total\n",
      "------  -------------\n",
      "par     7360 - 50.29%\n",
      "impar   7274 - 49.7%\n"
     ]
    }
   ],
   "source": [
    "num_dict = {}\n",
    "def most_freq_numbers(n):\n",
    "    if n % 2 == 0:\n",
    "        num_dict['par'] = num_dict.setdefault('par', 0) + 1\n",
    "    else:\n",
    "        num_dict['impar'] = num_dict.setdefault('impar', 0) + 1\n",
    "\n",
    "iterate_each_item_row(mega_data, most_freq_numbers)\n",
    "\n",
    "num_dict = sort_dict_by_value_reverse(num_dict)\n",
    "\n",
    "par_per = num_dict['par']*100/(num_dict['par'] + num_dict['impar'])\n",
    "impar_per = num_dict['impar']*100/(num_dict['par'] + num_dict['impar'])\n",
    "\n",
    "num_dict['par'] = f\"{num_dict['par']} - {truncate(par_per)}%\"\n",
    "num_dict['impar'] = f\"{num_dict['impar']} - {truncate(impar_per)}%\"\n",
    "\n",
    "print('-> total de números pares em ímpares')\n",
    "print_dict(num_dict,  ['tipo', 'total'])"
   ],
   "metadata": {
    "collapsed": false,
    "pycharm": {
     "name": "#%%\n"
    }
   }
  },
  {
   "cell_type": "markdown",
   "source": [
    "## Sequencias consecutivas de 2 mais sorteadas"
   ],
   "metadata": {
    "collapsed": false,
    "pycharm": {
     "name": "#%% md\n"
    }
   }
  },
  {
   "cell_type": "code",
   "execution_count": 29,
   "outputs": [
    {
     "name": "stdout",
     "output_type": "stream",
     "text": [
      "-> sequencias consecutivas de 2 mais sorteadas\n",
      "consecutivos      total\n",
      "--------------  -------\n",
      "1 2                  23\n",
      "57 58                22\n",
      "58 59                21\n",
      "2 3                  20\n",
      "59 60                20\n",
      "7 8                  20\n",
      "51 52                19\n",
      "8 9                  17\n",
      "17 18                17\n",
      "10 11                16\n",
      "4 5                  16\n",
      "56 57                16\n",
      "5 6                  16\n",
      "6 7                  15\n",
      "48 49                15\n",
      "12 13                15\n",
      "15 16                14\n",
      "38 39                14\n",
      "53 54                14\n",
      "54 55                13\n",
      "23 24                13\n",
      "3 4                  13\n",
      "46 47                13\n",
      "31 32                12\n",
      "28 29                12\n",
      "27 28                12\n",
      "34 35                12\n",
      "24 25                12\n",
      "52 53                12\n",
      "55 56                12\n",
      "43 44                11\n",
      "30 31                11\n",
      "41 42                11\n",
      "9 10                 11\n",
      "37 38                11\n",
      "11 12                11\n",
      "47 48                11\n",
      "36 37                11\n",
      "35 36                10\n",
      "45 46                10\n",
      "13 14                10\n",
      "16 17                10\n",
      "33 34                 9\n",
      "26 27                 9\n",
      "49 50                 9\n",
      "40 41                 9\n",
      "32 33                 9\n",
      "19 20                 9\n",
      "50 51                 9\n",
      "21 22                 9\n",
      "29 30                 8\n",
      "42 43                 8\n",
      "20 21                 8\n",
      "14 15                 8\n",
      "22 23                 8\n",
      "25 26                 7\n",
      "44 45                 7\n",
      "18 19                 3\n",
      "39 40                 3\n"
     ]
    }
   ],
   "source": [
    "consecutive = 2\n",
    "num_dict = {}\n",
    "\n",
    "def most_freq_consecutive(row):\n",
    "    row_sorted = sorted(row)\n",
    "    row_split = split_list(row_sorted, consecutive)\n",
    "    for s in row_split:\n",
    "        if check_consecutive(s) and len(s) == consecutive:\n",
    "            key = ' '.join(str(e) for e in s)\n",
    "            num_dict[key] = num_dict.setdefault(key, 0) + 1\n",
    "\n",
    "iterate_each_row(mega_data, most_freq_consecutive)\n",
    "\n",
    "num_dict = sort_dict_by_value_reverse(num_dict)\n",
    "\n",
    "print('-> sequencias consecutivas de 2 mais sorteadas')\n",
    "print_dict(num_dict,  ['consecutivos', 'total'])"
   ],
   "metadata": {
    "collapsed": false,
    "pycharm": {
     "name": "#%%\n"
    }
   }
  },
  {
   "cell_type": "markdown",
   "source": [
    "## Sequencias consecutivas de 3 mais sorteadas"
   ],
   "metadata": {
    "collapsed": false,
    "pycharm": {
     "name": "#%% md\n"
    }
   }
  },
  {
   "cell_type": "code",
   "execution_count": 30,
   "outputs": [
    {
     "name": "stdout",
     "output_type": "stream",
     "text": [
      "-> sequencias consecutivas de 3 mais sorteadas\n",
      "consecutivos      total\n",
      "--------------  -------\n",
      "57 58 59              4\n",
      "56 57 58              3\n",
      "6 7 8                 3\n",
      "4 5 6                 2\n",
      "31 32 33              2\n",
      "10 11 12              2\n",
      "58 59 60              2\n",
      "17 18 19              2\n",
      "32 33 34              1\n",
      "26 27 28              1\n",
      "41 42 43              1\n",
      "8 9 10                1\n",
      "53 54 55              1\n",
      "37 38 39              1\n",
      "40 41 42              1\n",
      "45 46 47              1\n",
      "20 21 22              1\n",
      "1 2 3                 1\n",
      "28 29 30              1\n",
      "27 28 29              1\n",
      "2 3 4                 1\n",
      "36 37 38              1\n",
      "49 50 51              1\n",
      "35 36 37              1\n",
      "52 53 54              1\n",
      "12 13 14              1\n",
      "33 34 35              1\n",
      "5 6 7                 1\n",
      "54 55 56              1\n"
     ]
    }
   ],
   "source": [
    "consecutive = 3\n",
    "num_dict = {}\n",
    "\n",
    "def most_freq_consecutive(row):\n",
    "    row_sorted = sorted(row)\n",
    "    row_split = split_list(row_sorted, consecutive)\n",
    "    for s in row_split:\n",
    "        if check_consecutive(s) and len(s) == consecutive:\n",
    "            key = ' '.join(str(e) for e in s)\n",
    "            num_dict[key] = num_dict.setdefault(key, 0) + 1\n",
    "\n",
    "iterate_each_row(mega_data, most_freq_consecutive)\n",
    "\n",
    "num_dict = sort_dict_by_value_reverse(num_dict)\n",
    "\n",
    "print('-> sequencias consecutivas de 3 mais sorteadas')\n",
    "print_dict(num_dict,  ['consecutivos', 'total'])"
   ],
   "metadata": {
    "collapsed": false,
    "pycharm": {
     "name": "#%%\n"
    }
   }
  },
  {
   "cell_type": "markdown",
   "source": [
    "## Sequencias consecutivas de 4 mais sorteadas"
   ],
   "metadata": {
    "collapsed": false,
    "pycharm": {
     "name": "#%% md\n"
    }
   }
  },
  {
   "cell_type": "code",
   "execution_count": 31,
   "outputs": [
    {
     "name": "stdout",
     "output_type": "stream",
     "text": [
      "-> sequencias consecutivas de 4 mais sorteadas\n",
      "consecutivos    total\n",
      "--------------  -------\n"
     ]
    }
   ],
   "source": [
    "consecutive = 4\n",
    "num_dict = {}\n",
    "\n",
    "def most_freq_consecutive(row):\n",
    "    row_sorted = sorted(row)\n",
    "    row_split = split_list(row_sorted, consecutive)\n",
    "    for s in row_split:\n",
    "        if check_consecutive(s) and len(s) == consecutive:\n",
    "            key = ' '.join(str(e) for e in s)\n",
    "            num_dict[key] = num_dict.setdefault(key, 0) + 1\n",
    "\n",
    "iterate_each_row(mega_data, most_freq_consecutive)\n",
    "\n",
    "num_dict = sort_dict_by_value_reverse(num_dict)\n",
    "\n",
    "print('-> sequencias consecutivas de 4 mais sorteadas')\n",
    "print_dict(num_dict,  ['consecutivos', 'total'])"
   ],
   "metadata": {
    "collapsed": false,
    "pycharm": {
     "name": "#%%\n"
    }
   }
  },
  {
   "cell_type": "markdown",
   "source": [
    "## Grafico de dispersão dos números agrupado por pares"
   ],
   "metadata": {
    "collapsed": false,
    "pycharm": {
     "name": "#%% md\n"
    }
   }
  },
  {
   "cell_type": "code",
   "execution_count": 32,
   "outputs": [
    {
     "data": {
      "text/plain": "<Figure size 432x288 with 1 Axes>",
      "image/png": "[encoded data removed]"
     },
     "metadata": {
      "needs_background": "light"
     },
     "output_type": "display_data"
    }
   ],
   "source": [
    "import matplotlib.pyplot as plt\n",
    "%matplotlib inline\n",
    "\n",
    "x = []\n",
    "y = []\n",
    "\n",
    "consecutive = 2\n",
    "\n",
    "def most_freq_consecutive(row):\n",
    "    row_split = split_list(row, consecutive)\n",
    "    for s in row_split:\n",
    "        x.append(s[0])\n",
    "        y.append(s[1])\n",
    "\n",
    "iterate_each_row(mega_data, most_freq_consecutive)\n",
    "\n",
    "scatter_plot(x, y)"
   ],
   "metadata": {
    "collapsed": false,
    "pycharm": {
     "name": "#%%\n"
    }
   }
  },
  {
   "cell_type": "markdown",
   "source": [
    "## Fontes\n",
    "### Python/Jupyter\n",
    "- https://www.techiedelight.com/increment-value-key-dictionary-python/\n",
    "- https://stackoverflow.com/questions/613183/how-do-i-sort-a-dictionary-by-value\n",
    "- https://www.geeksforgeeks.org/python-check-if-list-contains-consecutive-numbers/\n",
    "- https://www.simplilearn.com/tutorials/python-tutorial/list-to-string-in-python\n",
    "- https://www.delftstack.com/howto/python/python-split-list-into-chunks/\n",
    "- https://stackoverflow.com/questions/16476924/how-to-iterate-over-rows-in-a-dataframe-in-pandas\n",
    "- https://stackoverflow.com/questions/46153647/keyerror-0-when-accessing-value-in-pandas-series\n",
    "- https://stackoverflow.com/questions/16888888/how-to-read-a-xlsx-file-using-the-pandas-library-in-ipython\n",
    "- https://jakevdp.github.io/PythonDataScienceHandbook/04.02-simple-scatter-plots.html\n",
    "- https://towardsdatascience.com/render-interactive-plots-with-matplotlib-2cf0918d89c9\n",
    "- https://realpython.com/python-rounding/\n",
    "- https://towardsdatascience.com/python-string-interpolation-829e14e1fc75\n",
    "- https://stackoverflow.com/questions/42235918/python-tabulate-dictionary-containing-two-values-per-key\n",
    "- https://www.educba.com/python-print-table/\n",
    "\n",
    "### Dados\n",
    "- https://asloterias.com.br/download-todos-resultados-mega-sena"
   ],
   "metadata": {
    "collapsed": false,
    "pycharm": {
     "name": "#%% md\n"
    }
   }
  }
 ],
 "metadata": {
  "kernelspec": {
   "display_name": "Python 3",
   "language": "python",
   "name": "python3"
  },
  "language_info": {
   "codemirror_mode": {
    "name": "ipython",
    "version": 2
   },
   "file_extension": ".py",
   "mimetype": "text/x-python",
   "name": "python",
   "nbconvert_exporter": "python",
   "pygments_lexer": "ipython2",
   "version": "2.7.6"
  }
 },
 "nbformat": 4,
 "nbformat_minor": 0
}